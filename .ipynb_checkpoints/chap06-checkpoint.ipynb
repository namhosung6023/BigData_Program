{
 "cells": [
  {
   "cell_type": "code",
   "execution_count": 3,
   "id": "f6db2445-f648-46b7-a7aa-e6b2ce703688",
   "metadata": {
    "tags": []
   },
   "outputs": [],
   "source": [
    "import pandas as pd\n",
    "exam = pd.read_csv('exam.csv')"
   ]
  },
  {
   "cell_type": "code",
   "execution_count": 6,
   "id": "afee72d6-f833-4d70-8fb7-17e2cc974d63",
   "metadata": {
    "tags": []
   },
   "outputs": [
    {
     "data": {
      "text/html": [
       "<div>\n",
       "<style scoped>\n",
       "    .dataframe tbody tr th:only-of-type {\n",
       "        vertical-align: middle;\n",
       "    }\n",
       "\n",
       "    .dataframe tbody tr th {\n",
       "        vertical-align: top;\n",
       "    }\n",
       "\n",
       "    .dataframe thead th {\n",
       "        text-align: right;\n",
       "    }\n",
       "</style>\n",
       "<table border=\"1\" class=\"dataframe\">\n",
       "  <thead>\n",
       "    <tr style=\"text-align: right;\">\n",
       "      <th></th>\n",
       "      <th>math</th>\n",
       "    </tr>\n",
       "  </thead>\n",
       "  <tbody>\n",
       "    <tr>\n",
       "      <th>mean_math</th>\n",
       "      <td>57.45</td>\n",
       "    </tr>\n",
       "  </tbody>\n",
       "</table>\n",
       "</div>"
      ],
      "text/plain": [
       "            math\n",
       "mean_math  57.45"
      ]
     },
     "execution_count": 6,
     "metadata": {},
     "output_type": "execute_result"
    }
   ],
   "source": [
    "# math 평균 구하기 \n",
    "exam.agg(mean_math = ('math', 'mean'))"
   ]
  },
  {
   "cell_type": "code",
   "execution_count": 7,
   "id": "deb9f516-6c24-4cc5-ab9b-95109f742433",
   "metadata": {
    "tags": []
   },
   "outputs": [
    {
     "data": {
      "text/html": [
       "<div>\n",
       "<style scoped>\n",
       "    .dataframe tbody tr th:only-of-type {\n",
       "        vertical-align: middle;\n",
       "    }\n",
       "\n",
       "    .dataframe tbody tr th {\n",
       "        vertical-align: top;\n",
       "    }\n",
       "\n",
       "    .dataframe thead th {\n",
       "        text-align: right;\n",
       "    }\n",
       "</style>\n",
       "<table border=\"1\" class=\"dataframe\">\n",
       "  <thead>\n",
       "    <tr style=\"text-align: right;\">\n",
       "      <th></th>\n",
       "      <th>mean_math</th>\n",
       "    </tr>\n",
       "    <tr>\n",
       "      <th>nclass</th>\n",
       "      <th></th>\n",
       "    </tr>\n",
       "  </thead>\n",
       "  <tbody>\n",
       "    <tr>\n",
       "      <th>1</th>\n",
       "      <td>46.25</td>\n",
       "    </tr>\n",
       "    <tr>\n",
       "      <th>2</th>\n",
       "      <td>61.25</td>\n",
       "    </tr>\n",
       "    <tr>\n",
       "      <th>3</th>\n",
       "      <td>45.00</td>\n",
       "    </tr>\n",
       "    <tr>\n",
       "      <th>4</th>\n",
       "      <td>56.75</td>\n",
       "    </tr>\n",
       "    <tr>\n",
       "      <th>5</th>\n",
       "      <td>78.00</td>\n",
       "    </tr>\n",
       "  </tbody>\n",
       "</table>\n",
       "</div>"
      ],
      "text/plain": [
       "        mean_math\n",
       "nclass           \n",
       "1           46.25\n",
       "2           61.25\n",
       "3           45.00\n",
       "4           56.75\n",
       "5           78.00"
      ]
     },
     "execution_count": 7,
     "metadata": {},
     "output_type": "execute_result"
    }
   ],
   "source": [
    "# 반(nclass)별로 그룹화하고, 그룹별로 변수(컬럼) math에 대한 평균(mean)을 구하고,\n",
    "# 변수 이름을 mean_math로 함.\n",
    "# 기본적으로 nclass가 인덱스가 됨\n",
    "exam.groupby('nclass').agg(mean_math = ('math', 'mean'))"
   ]
  },
  {
   "cell_type": "code",
   "execution_count": 8,
   "id": "455f65dc-f2c6-4ed0-9cdc-b45411dcbd65",
   "metadata": {
    "tags": []
   },
   "outputs": [
    {
     "data": {
      "text/html": [
       "<div>\n",
       "<style scoped>\n",
       "    .dataframe tbody tr th:only-of-type {\n",
       "        vertical-align: middle;\n",
       "    }\n",
       "\n",
       "    .dataframe tbody tr th {\n",
       "        vertical-align: top;\n",
       "    }\n",
       "\n",
       "    .dataframe thead th {\n",
       "        text-align: right;\n",
       "    }\n",
       "</style>\n",
       "<table border=\"1\" class=\"dataframe\">\n",
       "  <thead>\n",
       "    <tr style=\"text-align: right;\">\n",
       "      <th></th>\n",
       "      <th>nclass</th>\n",
       "      <th>mean_math</th>\n",
       "    </tr>\n",
       "  </thead>\n",
       "  <tbody>\n",
       "    <tr>\n",
       "      <th>0</th>\n",
       "      <td>1</td>\n",
       "      <td>46.25</td>\n",
       "    </tr>\n",
       "    <tr>\n",
       "      <th>1</th>\n",
       "      <td>2</td>\n",
       "      <td>61.25</td>\n",
       "    </tr>\n",
       "    <tr>\n",
       "      <th>2</th>\n",
       "      <td>3</td>\n",
       "      <td>45.00</td>\n",
       "    </tr>\n",
       "    <tr>\n",
       "      <th>3</th>\n",
       "      <td>4</td>\n",
       "      <td>56.75</td>\n",
       "    </tr>\n",
       "    <tr>\n",
       "      <th>4</th>\n",
       "      <td>5</td>\n",
       "      <td>78.00</td>\n",
       "    </tr>\n",
       "  </tbody>\n",
       "</table>\n",
       "</div>"
      ],
      "text/plain": [
       "   nclass  mean_math\n",
       "0       1      46.25\n",
       "1       2      61.25\n",
       "2       3      45.00\n",
       "3       4      56.75\n",
       "4       5      78.00"
      ]
     },
     "execution_count": 8,
     "metadata": {},
     "output_type": "execute_result"
    }
   ],
   "source": [
    "# 반(nclass)별로 그룹화하고,\n",
    "# 그룹별로 변수(컬럼) math에 대한 평균(mean)을 구하고,\n",
    "# 변수 이름을 mean_math로 함.\n",
    "# nclass를 인덱스로 만들지 않음\n",
    "exam.groupby('nclass', as_index = False).agg(mean_math = ('math', 'mean'))"
   ]
  },
  {
   "cell_type": "code",
   "execution_count": 9,
   "id": "bba4c511-d37c-457e-9455-84744cb1562d",
   "metadata": {
    "tags": []
   },
   "outputs": [
    {
     "data": {
      "text/html": [
       "<div>\n",
       "<style scoped>\n",
       "    .dataframe tbody tr th:only-of-type {\n",
       "        vertical-align: middle;\n",
       "    }\n",
       "\n",
       "    .dataframe tbody tr th {\n",
       "        vertical-align: top;\n",
       "    }\n",
       "\n",
       "    .dataframe thead th {\n",
       "        text-align: right;\n",
       "    }\n",
       "</style>\n",
       "<table border=\"1\" class=\"dataframe\">\n",
       "  <thead>\n",
       "    <tr style=\"text-align: right;\">\n",
       "      <th></th>\n",
       "      <th>mean_math</th>\n",
       "      <th>sum_math</th>\n",
       "    </tr>\n",
       "    <tr>\n",
       "      <th>nclass</th>\n",
       "      <th></th>\n",
       "      <th></th>\n",
       "    </tr>\n",
       "  </thead>\n",
       "  <tbody>\n",
       "    <tr>\n",
       "      <th>1</th>\n",
       "      <td>46.25</td>\n",
       "      <td>185</td>\n",
       "    </tr>\n",
       "    <tr>\n",
       "      <th>2</th>\n",
       "      <td>61.25</td>\n",
       "      <td>245</td>\n",
       "    </tr>\n",
       "    <tr>\n",
       "      <th>3</th>\n",
       "      <td>45.00</td>\n",
       "      <td>180</td>\n",
       "    </tr>\n",
       "    <tr>\n",
       "      <th>4</th>\n",
       "      <td>56.75</td>\n",
       "      <td>227</td>\n",
       "    </tr>\n",
       "    <tr>\n",
       "      <th>5</th>\n",
       "      <td>78.00</td>\n",
       "      <td>312</td>\n",
       "    </tr>\n",
       "  </tbody>\n",
       "</table>\n",
       "</div>"
      ],
      "text/plain": [
       "        mean_math  sum_math\n",
       "nclass                     \n",
       "1           46.25       185\n",
       "2           61.25       245\n",
       "3           45.00       180\n",
       "4           56.75       227\n",
       "5           78.00       312"
      ]
     },
     "execution_count": 9,
     "metadata": {},
     "output_type": "execute_result"
    }
   ],
   "source": [
    "# 반(nclass)별로 그룹화하고, 그룹별로\n",
    "# mean_math 변수에 math에 대한 평균(mean) 값을\n",
    "# sum_math 변수에 math에 대한 합(sum) 값을 생성함\n",
    "exam.groupby('nclass') \\\n",
    ".agg(mean_math = ('math', 'mean'),\n",
    "sum_math = ('math', 'sum'))"
   ]
  },
  {
   "cell_type": "code",
   "execution_count": 11,
   "id": "f6b6c38e-fa92-4708-9431-73406db12ea5",
   "metadata": {
    "tags": []
   },
   "outputs": [
    {
     "data": {
      "text/html": [
       "<div>\n",
       "<style scoped>\n",
       "    .dataframe tbody tr th:only-of-type {\n",
       "        vertical-align: middle;\n",
       "    }\n",
       "\n",
       "    .dataframe tbody tr th {\n",
       "        vertical-align: top;\n",
       "    }\n",
       "\n",
       "    .dataframe thead th {\n",
       "        text-align: right;\n",
       "    }\n",
       "</style>\n",
       "<table border=\"1\" class=\"dataframe\">\n",
       "  <thead>\n",
       "    <tr style=\"text-align: right;\">\n",
       "      <th></th>\n",
       "      <th>mean_math</th>\n",
       "      <th>sum_math</th>\n",
       "      <th>median_math</th>\n",
       "      <th>n</th>\n",
       "    </tr>\n",
       "    <tr>\n",
       "      <th>nclass</th>\n",
       "      <th></th>\n",
       "      <th></th>\n",
       "      <th></th>\n",
       "      <th></th>\n",
       "    </tr>\n",
       "  </thead>\n",
       "  <tbody>\n",
       "    <tr>\n",
       "      <th>1</th>\n",
       "      <td>46.25</td>\n",
       "      <td>185</td>\n",
       "      <td>47.5</td>\n",
       "      <td>4</td>\n",
       "    </tr>\n",
       "    <tr>\n",
       "      <th>2</th>\n",
       "      <td>61.25</td>\n",
       "      <td>245</td>\n",
       "      <td>65.0</td>\n",
       "      <td>4</td>\n",
       "    </tr>\n",
       "    <tr>\n",
       "      <th>3</th>\n",
       "      <td>45.00</td>\n",
       "      <td>180</td>\n",
       "      <td>47.5</td>\n",
       "      <td>4</td>\n",
       "    </tr>\n",
       "    <tr>\n",
       "      <th>4</th>\n",
       "      <td>56.75</td>\n",
       "      <td>227</td>\n",
       "      <td>53.0</td>\n",
       "      <td>4</td>\n",
       "    </tr>\n",
       "    <tr>\n",
       "      <th>5</th>\n",
       "      <td>78.00</td>\n",
       "      <td>312</td>\n",
       "      <td>79.0</td>\n",
       "      <td>4</td>\n",
       "    </tr>\n",
       "  </tbody>\n",
       "</table>\n",
       "</div>"
      ],
      "text/plain": [
       "        mean_math  sum_math  median_math  n\n",
       "nclass                                     \n",
       "1           46.25       185         47.5  4\n",
       "2           61.25       245         65.0  4\n",
       "3           45.00       180         47.5  4\n",
       "4           56.75       227         53.0  4\n",
       "5           78.00       312         79.0  4"
      ]
     },
     "execution_count": 11,
     "metadata": {},
     "output_type": "execute_result"
    }
   ],
   "source": [
    "# 반(nclass)별로 그룹화하고, 그룹별로\n",
    "# mean_math 변수에 math에 대한 평균(mean) 값을\n",
    "# sum_math 변수에 math에 대한 합(sum) 값을 생성함\n",
    "# median_math 변수에 math에 대한 중앙값(median) 값을 생성함\n",
    "# n 변수에 math에 대한 그룹내 개수(count) 값을 생성함\n",
    "exam.groupby('nclass') \\\n",
    ".agg(mean_math = ('math', 'mean'),\n",
    "     sum_math = ('math', 'sum'),\n",
    "     median_math = ('math', 'median'),\n",
    "     n = ('math', 'count')\n",
    ")"
   ]
  },
  {
   "cell_type": "code",
   "execution_count": 12,
   "id": "dc70e869-790e-46c2-b340-24b5061a149c",
   "metadata": {
    "tags": []
   },
   "outputs": [
    {
     "data": {
      "text/html": [
       "<div>\n",
       "<style scoped>\n",
       "    .dataframe tbody tr th:only-of-type {\n",
       "        vertical-align: middle;\n",
       "    }\n",
       "\n",
       "    .dataframe tbody tr th {\n",
       "        vertical-align: top;\n",
       "    }\n",
       "\n",
       "    .dataframe thead th {\n",
       "        text-align: right;\n",
       "    }\n",
       "</style>\n",
       "<table border=\"1\" class=\"dataframe\">\n",
       "  <thead>\n",
       "    <tr style=\"text-align: right;\">\n",
       "      <th></th>\n",
       "      <th>id</th>\n",
       "      <th>math</th>\n",
       "      <th>english</th>\n",
       "      <th>science</th>\n",
       "    </tr>\n",
       "    <tr>\n",
       "      <th>nclass</th>\n",
       "      <th></th>\n",
       "      <th></th>\n",
       "      <th></th>\n",
       "      <th></th>\n",
       "    </tr>\n",
       "  </thead>\n",
       "  <tbody>\n",
       "    <tr>\n",
       "      <th>1</th>\n",
       "      <td>2.5</td>\n",
       "      <td>46.25</td>\n",
       "      <td>94.75</td>\n",
       "      <td>61.50</td>\n",
       "    </tr>\n",
       "    <tr>\n",
       "      <th>2</th>\n",
       "      <td>6.5</td>\n",
       "      <td>61.25</td>\n",
       "      <td>84.25</td>\n",
       "      <td>58.25</td>\n",
       "    </tr>\n",
       "    <tr>\n",
       "      <th>3</th>\n",
       "      <td>10.5</td>\n",
       "      <td>45.00</td>\n",
       "      <td>86.50</td>\n",
       "      <td>39.25</td>\n",
       "    </tr>\n",
       "    <tr>\n",
       "      <th>4</th>\n",
       "      <td>14.5</td>\n",
       "      <td>56.75</td>\n",
       "      <td>84.75</td>\n",
       "      <td>55.00</td>\n",
       "    </tr>\n",
       "    <tr>\n",
       "      <th>5</th>\n",
       "      <td>18.5</td>\n",
       "      <td>78.00</td>\n",
       "      <td>74.25</td>\n",
       "      <td>83.25</td>\n",
       "    </tr>\n",
       "  </tbody>\n",
       "</table>\n",
       "</div>"
      ],
      "text/plain": [
       "          id   math  english  science\n",
       "nclass                               \n",
       "1        2.5  46.25    94.75    61.50\n",
       "2        6.5  61.25    84.25    58.25\n",
       "3       10.5  45.00    86.50    39.25\n",
       "4       14.5  56.75    84.75    55.00\n",
       "5       18.5  78.00    74.25    83.25"
      ]
     },
     "execution_count": 12,
     "metadata": {},
     "output_type": "execute_result"
    }
   ],
   "source": [
    "# 반(nclass)별로 그룹화하고, 그룹별로\n",
    "# 각 변수에 대한 평균(mean) 값 구하기\n",
    "exam.groupby('nclass').mean()"
   ]
  },
  {
   "cell_type": "code",
   "execution_count": 3,
   "id": "c3f05354-2dc3-41a3-8441-a2ab13abe506",
   "metadata": {},
   "outputs": [],
   "source": [
    "# mpg.csv 데이터를 데이터 프레임 mpg로 읽어 들임\n",
    "import pandas as pd\n",
    "mpg = pd.read_csv('mpg.csv')"
   ]
  },
  {
   "cell_type": "code",
   "execution_count": 6,
   "id": "5b6647b8-f016-46a8-9266-1e620bff42e6",
   "metadata": {
    "tags": []
   },
   "outputs": [
    {
     "data": {
      "text/html": [
       "<div>\n",
       "<style scoped>\n",
       "    .dataframe tbody tr th:only-of-type {\n",
       "        vertical-align: middle;\n",
       "    }\n",
       "\n",
       "    .dataframe tbody tr th {\n",
       "        vertical-align: top;\n",
       "    }\n",
       "\n",
       "    .dataframe thead th {\n",
       "        text-align: right;\n",
       "    }\n",
       "</style>\n",
       "<table border=\"1\" class=\"dataframe\">\n",
       "  <thead>\n",
       "    <tr style=\"text-align: right;\">\n",
       "      <th></th>\n",
       "      <th></th>\n",
       "      <th>mean_cty</th>\n",
       "    </tr>\n",
       "    <tr>\n",
       "      <th>manufacturer</th>\n",
       "      <th>drv</th>\n",
       "      <th></th>\n",
       "    </tr>\n",
       "  </thead>\n",
       "  <tbody>\n",
       "    <tr>\n",
       "      <th>honda</th>\n",
       "      <th>f</th>\n",
       "      <td>24.444444</td>\n",
       "    </tr>\n",
       "    <tr>\n",
       "      <th>toyota</th>\n",
       "      <th>f</th>\n",
       "      <td>21.368421</td>\n",
       "    </tr>\n",
       "    <tr>\n",
       "      <th>volkswagen</th>\n",
       "      <th>f</th>\n",
       "      <td>20.925926</td>\n",
       "    </tr>\n",
       "    <tr>\n",
       "      <th>nissan</th>\n",
       "      <th>f</th>\n",
       "      <td>20.000000</td>\n",
       "    </tr>\n",
       "    <tr>\n",
       "      <th>subaru</th>\n",
       "      <th>4</th>\n",
       "      <td>19.285714</td>\n",
       "    </tr>\n",
       "  </tbody>\n",
       "</table>\n",
       "</div>"
      ],
      "text/plain": [
       "                   mean_cty\n",
       "manufacturer drv           \n",
       "honda        f    24.444444\n",
       "toyota       f    21.368421\n",
       "volkswagen   f    20.925926\n",
       "nissan       f    20.000000\n",
       "subaru       4    19.285714"
      ]
     },
     "execution_count": 6,
     "metadata": {},
     "output_type": "execute_result"
    }
   ],
   "source": [
    "# 자동차 브랜드별로 drv 방식별로 cty의 평균, 도심에서의 연비의 평균을 구해라 (asscending=Fals - 큰수부터 나타내게 하기 )\n",
    "mpg.groupby(['manufacturer', 'drv']).agg(mean_cty = ('cty', 'mean')) \\\n",
    "    .sort_values('mean_cty', ascending=False).head()"
   ]
  },
  {
   "cell_type": "code",
   "execution_count": 5,
   "id": "4e09196b-2f6e-43c6-84df-63366dda6ecf",
   "metadata": {
    "tags": []
   },
   "outputs": [
    {
     "data": {
      "text/html": [
       "<div>\n",
       "<style scoped>\n",
       "    .dataframe tbody tr th:only-of-type {\n",
       "        vertical-align: middle;\n",
       "    }\n",
       "\n",
       "    .dataframe tbody tr th {\n",
       "        vertical-align: top;\n",
       "    }\n",
       "\n",
       "    .dataframe thead th {\n",
       "        text-align: right;\n",
       "    }\n",
       "</style>\n",
       "<table border=\"1\" class=\"dataframe\">\n",
       "  <thead>\n",
       "    <tr style=\"text-align: right;\">\n",
       "      <th></th>\n",
       "      <th>n</th>\n",
       "    </tr>\n",
       "    <tr>\n",
       "      <th>drv</th>\n",
       "      <th></th>\n",
       "    </tr>\n",
       "  </thead>\n",
       "  <tbody>\n",
       "    <tr>\n",
       "      <th>4</th>\n",
       "      <td>11</td>\n",
       "    </tr>\n",
       "    <tr>\n",
       "      <th>f</th>\n",
       "      <td>7</td>\n",
       "    </tr>\n",
       "  </tbody>\n",
       "</table>\n",
       "</div>"
      ],
      "text/plain": [
       "      n\n",
       "drv    \n",
       "4    11\n",
       "f     7"
      ]
     },
     "execution_count": 5,
     "metadata": {},
     "output_type": "execute_result"
    }
   ],
   "source": [
    "# 제조사(manufacturer)가 audi인 자동차를 대상으로\n",
    "# 구동방식(drv)에 따라 그룹화하고, 그룹별로\n",
    "# n 변수에 구동방식 drv에 대한 그룹네 개수(count) 값을 구하여 출력\n",
    "mpg.query('manufacturer == \"audi\"') \\\n",
    ".groupby(['drv']) \\\n",
    ".agg(n = ('drv', 'count'))"
   ]
  },
  {
   "cell_type": "code",
   "execution_count": 7,
   "id": "35033a33-a49f-4af6-b4ec-2adbea38dccf",
   "metadata": {
    "tags": []
   },
   "outputs": [
    {
     "data": {
      "text/html": [
       "<div>\n",
       "<style scoped>\n",
       "    .dataframe tbody tr th:only-of-type {\n",
       "        vertical-align: middle;\n",
       "    }\n",
       "\n",
       "    .dataframe tbody tr th {\n",
       "        vertical-align: top;\n",
       "    }\n",
       "\n",
       "    .dataframe thead th {\n",
       "        text-align: right;\n",
       "    }\n",
       "</style>\n",
       "<table border=\"1\" class=\"dataframe\">\n",
       "  <thead>\n",
       "    <tr style=\"text-align: right;\">\n",
       "      <th></th>\n",
       "      <th>n</th>\n",
       "    </tr>\n",
       "    <tr>\n",
       "      <th>drv</th>\n",
       "      <th></th>\n",
       "    </tr>\n",
       "  </thead>\n",
       "  <tbody>\n",
       "    <tr>\n",
       "      <th>4</th>\n",
       "      <td>103</td>\n",
       "    </tr>\n",
       "    <tr>\n",
       "      <th>f</th>\n",
       "      <td>106</td>\n",
       "    </tr>\n",
       "    <tr>\n",
       "      <th>r</th>\n",
       "      <td>25</td>\n",
       "    </tr>\n",
       "  </tbody>\n",
       "</table>\n",
       "</div>"
      ],
      "text/plain": [
       "       n\n",
       "drv     \n",
       "4    103\n",
       "f    106\n",
       "r     25"
      ]
     },
     "execution_count": 7,
     "metadata": {},
     "output_type": "execute_result"
    }
   ],
   "source": [
    "# 구동방식(drv)에 따라 그룹화하고, 그룹별로\n",
    "# n 변수에 구동방식 drv에 대한 그룹네 개수(count) 값을 구하여 출력\n",
    "mpg.groupby('drv').agg(n = ('drv', 'count'))"
   ]
  },
  {
   "cell_type": "code",
   "execution_count": 8,
   "id": "388cc44b-c998-4517-af24-8fb9a48a90f7",
   "metadata": {
    "tags": []
   },
   "outputs": [
    {
     "data": {
      "text/plain": [
       "drv\n",
       "f    106\n",
       "4    103\n",
       "r     25\n",
       "dtype: int64"
      ]
     },
     "execution_count": 8,
     "metadata": {},
     "output_type": "execute_result"
    }
   ],
   "source": [
    "# 구동방식 drv에 대한 그룹네 개수 값을 구하여 출력\n",
    "mpg.value_counts('drv') # 시리즈로 출력"
   ]
  },
  {
   "cell_type": "code",
   "execution_count": 9,
   "id": "a07c27f7-350c-4dca-b2c8-15dae89ca4a0",
   "metadata": {
    "tags": []
   },
   "outputs": [
    {
     "data": {
      "text/html": [
       "<div>\n",
       "<style scoped>\n",
       "    .dataframe tbody tr th:only-of-type {\n",
       "        vertical-align: middle;\n",
       "    }\n",
       "\n",
       "    .dataframe tbody tr th {\n",
       "        vertical-align: top;\n",
       "    }\n",
       "\n",
       "    .dataframe thead th {\n",
       "        text-align: right;\n",
       "    }\n",
       "</style>\n",
       "<table border=\"1\" class=\"dataframe\">\n",
       "  <thead>\n",
       "    <tr style=\"text-align: right;\">\n",
       "      <th></th>\n",
       "      <th>count</th>\n",
       "    </tr>\n",
       "    <tr>\n",
       "      <th>drv</th>\n",
       "      <th></th>\n",
       "    </tr>\n",
       "  </thead>\n",
       "  <tbody>\n",
       "    <tr>\n",
       "      <th>f</th>\n",
       "      <td>106</td>\n",
       "    </tr>\n",
       "    <tr>\n",
       "      <th>4</th>\n",
       "      <td>103</td>\n",
       "    </tr>\n",
       "    <tr>\n",
       "      <th>r</th>\n",
       "      <td>25</td>\n",
       "    </tr>\n",
       "  </tbody>\n",
       "</table>\n",
       "</div>"
      ],
      "text/plain": [
       "     count\n",
       "drv       \n",
       "f      106\n",
       "4      103\n",
       "r       25"
      ]
     },
     "execution_count": 9,
     "metadata": {},
     "output_type": "execute_result"
    }
   ],
   "source": [
    "# 구동방식 drv에 대한 그룹네 개수 값을 구하여 출력\n",
    "mpg.value_counts('drv').to_frame('count') # 데이터 프레임으로 출력 (변수 이름 count)"
   ]
  },
  {
   "cell_type": "code",
   "execution_count": 10,
   "id": "380ac7a8-2083-40ee-b421-aff989a555f3",
   "metadata": {
    "tags": []
   },
   "outputs": [
    {
     "data": {
      "text/html": [
       "<div>\n",
       "<style scoped>\n",
       "    .dataframe tbody tr th:only-of-type {\n",
       "        vertical-align: middle;\n",
       "    }\n",
       "\n",
       "    .dataframe tbody tr th {\n",
       "        vertical-align: top;\n",
       "    }\n",
       "\n",
       "    .dataframe thead th {\n",
       "        text-align: right;\n",
       "    }\n",
       "</style>\n",
       "<table border=\"1\" class=\"dataframe\">\n",
       "  <thead>\n",
       "    <tr style=\"text-align: right;\">\n",
       "      <th></th>\n",
       "      <th>count</th>\n",
       "    </tr>\n",
       "    <tr>\n",
       "      <th>drv</th>\n",
       "      <th></th>\n",
       "    </tr>\n",
       "  </thead>\n",
       "  <tbody>\n",
       "    <tr>\n",
       "      <th>f</th>\n",
       "      <td>106</td>\n",
       "    </tr>\n",
       "    <tr>\n",
       "      <th>4</th>\n",
       "      <td>103</td>\n",
       "    </tr>\n",
       "  </tbody>\n",
       "</table>\n",
       "</div>"
      ],
      "text/plain": [
       "     count\n",
       "drv       \n",
       "f      106\n",
       "4      103"
      ]
     },
     "execution_count": 10,
     "metadata": {},
     "output_type": "execute_result"
    }
   ],
   "source": [
    "# 구동방식 drv에 대한 그룹네 개수가 100개 초과인 구동방식(drv)을 구하여 출력\n",
    "mpg.value_counts('drv').to_frame('count').query('count > 100')"
   ]
  },
  {
   "cell_type": "code",
   "execution_count": 11,
   "id": "cd6f2583-f10a-4a19-aa78-415db28eb486",
   "metadata": {
    "tags": []
   },
   "outputs": [],
   "source": [
    "# Lab 4 : mpg 데이터에서 suv 제조사의 합산 평균 연비 상위 1 ~ 5위 제조사 출력하기"
   ]
  },
  {
   "cell_type": "code",
   "execution_count": 12,
   "id": "45da3059-0ef1-43ee-a7c7-ccd82e24456f",
   "metadata": {
    "tags": []
   },
   "outputs": [],
   "source": [
    "# (1) mpg.csv 파일을 데이터 프레임 mpg로 읽어 들임\n",
    "mpg = pd.read_csv('mpg.csv')"
   ]
  },
  {
   "cell_type": "code",
   "execution_count": null,
   "id": "c8f1ffb7-3c99-41d0-b7b5-e8a34d5cfcdd",
   "metadata": {},
   "outputs": [],
   "source": []
  }
 ],
 "metadata": {
  "kernelspec": {
   "display_name": "Python 3 (ipykernel)",
   "language": "python",
   "name": "python3"
  },
  "language_info": {
   "codemirror_mode": {
    "name": "ipython",
    "version": 3
   },
   "file_extension": ".py",
   "mimetype": "text/x-python",
   "name": "python",
   "nbconvert_exporter": "python",
   "pygments_lexer": "ipython3",
   "version": "3.11.4"
  }
 },
 "nbformat": 4,
 "nbformat_minor": 5
}
